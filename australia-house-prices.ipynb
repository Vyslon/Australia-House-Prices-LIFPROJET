{
 "cells": [
  {
   "cell_type": "code",
   "execution_count": 1,
   "id": "c402bec4",
   "metadata": {
    "execution": {
     "iopub.execute_input": "2022-12-02T15:14:17.428292Z",
     "iopub.status.busy": "2022-12-02T15:14:17.427911Z",
     "iopub.status.idle": "2022-12-02T15:14:19.343902Z",
     "shell.execute_reply": "2022-12-02T15:14:19.342528Z"
    },
    "papermill": {
     "duration": 1.923385,
     "end_time": "2022-12-02T15:14:19.346156",
     "exception": false,
     "start_time": "2022-12-02T15:14:17.422771",
     "status": "completed"
    },
    "tags": []
   },
   "outputs": [
    {
     "data": {
      "text/html": [
       "<style type='text/css'>\n",
       ".datatable table.frame { margin-bottom: 0; }\n",
       ".datatable table.frame thead { border-bottom: none; }\n",
       ".datatable table.frame tr.coltypes td {  color: #FFFFFF;  line-height: 6px;  padding: 0 0.5em;}\n",
       ".datatable .bool    { background: #DDDD99; }\n",
       ".datatable .object  { background: #565656; }\n",
       ".datatable .int     { background: #5D9E5D; }\n",
       ".datatable .float   { background: #4040CC; }\n",
       ".datatable .str     { background: #CC4040; }\n",
       ".datatable .time    { background: #40CC40; }\n",
       ".datatable .row_index {  background: var(--jp-border-color3);  border-right: 1px solid var(--jp-border-color0);  color: var(--jp-ui-font-color3);  font-size: 9px;}\n",
       ".datatable .frame tbody td { text-align: left; }\n",
       ".datatable .frame tr.coltypes .row_index {  background: var(--jp-border-color0);}\n",
       ".datatable th:nth-child(2) { padding-left: 12px; }\n",
       ".datatable .hellipsis {  color: var(--jp-cell-editor-border-color);}\n",
       ".datatable .vellipsis {  background: var(--jp-layout-color0);  color: var(--jp-cell-editor-border-color);}\n",
       ".datatable .na {  color: var(--jp-cell-editor-border-color);  font-size: 80%;}\n",
       ".datatable .sp {  opacity: 0.25;}\n",
       ".datatable .footer { font-size: 9px; }\n",
       ".datatable .frame_dimensions {  background: var(--jp-border-color3);  border-top: 1px solid var(--jp-border-color0);  color: var(--jp-ui-font-color3);  display: inline-block;  opacity: 0.6;  padding: 1px 10px 1px 5px;}\n",
       ".datatable .frame thead tr.colnames {  background-image: url('data:image/png;base64,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');  background-repeat: repeat-x;  background-size: 14px;  height: 28px;}\n",
       "</style>\n"
      ],
      "text/plain": [
       "<IPython.core.display.HTML object>"
      ]
     },
     "metadata": {},
     "output_type": "display_data"
    },
    {
     "name": "stdout",
     "output_type": "stream",
     "text": [
      "/kaggle/input/house-prices-advanced-regression-techniques/sample_submission.csv\n",
      "/kaggle/input/house-prices-advanced-regression-techniques/data_description.txt\n",
      "/kaggle/input/house-prices-advanced-regression-techniques/train.csv\n",
      "/kaggle/input/house-prices-advanced-regression-techniques/test.csv\n"
     ]
    }
   ],
   "source": [
    "# This Python 3 environment comes with many helpful analytics libraries installed\n",
    "# It is defined by the kaggle/python Docker image: https://github.com/kaggle/docker-python\n",
    "# For example, here's several helpful packages to load\n",
    "\n",
    "import numpy as np # linear algebra\n",
    "import pandas as pd # data processing, CSV file I/O (e.g. pd.read_csv)\n",
    "import random as rnd\n",
    "from xgboost import XGBRegressor\n",
    "from scipy.stats.stats import pearsonr   \n",
    "from sklearn.metrics import mean_absolute_error\n",
    "\n",
    "# visualization\n",
    "import seaborn as sns\n",
    "import matplotlib.pyplot as plt\n",
    "%matplotlib inline\n",
    "\n",
    "# machine learning\n",
    "from sklearn.linear_model import LogisticRegression\n",
    "\n",
    "from sklearn.svm import SVC, LinearSVC\n",
    "from sklearn.ensemble import RandomForestClassifier\n",
    "from sklearn.model_selection import train_test_split\n",
    "from sklearn.neighbors import KNeighborsClassifier\n",
    "from sklearn.naive_bayes import GaussianNB\n",
    "from sklearn.linear_model import Perceptron\n",
    "from sklearn.linear_model import SGDClassifier\n",
    "from sklearn.tree import DecisionTreeClassifier\n",
    "from sklearn.ensemble import RandomForestRegressor\n",
    "from sklearn.ensemble import GradientBoostingRegressor\n",
    "from mlxtend.regressor import StackingCVRegressor\n",
    "from sklearn.model_selection import KFold, cross_val_score\n",
    "from sklearn.svm import SVR\n",
    "from sklearn.tree import DecisionTreeRegressor\n",
    "from sklearn.pipeline import Pipeline\n",
    "from sklearn.impute import SimpleImputer\n",
    "from sklearn.model_selection import cross_val_score\n",
    "from sklearn.model_selection import GridSearchCV\n",
    "from sklearn.compose import ColumnTransformer\n",
    "from scipy.stats import skew  # for some statistics\n",
    "from lightgbm import LGBMRegressor\n",
    "from scipy.special import boxcox1p\n",
    "from sklearn.pipeline import make_pipeline\n",
    "from scipy.stats import boxcox_normmax\n",
    "from sklearn.preprocessing import OneHotEncoder\n",
    "from sklearn.preprocessing import StandardScaler\n",
    "from sklearn.preprocessing import RobustScaler\n",
    "from sklearn.linear_model import ElasticNetCV, LassoCV, RidgeCV\n",
    "# Input data files are available in the read-only \"../input/\" directory\n",
    "# For example, running this (by clicking run or pressing Shift+Enter) will list all files under the input directory\n",
    "\n",
    "import os\n",
    "for dirname, _, filenames in os.walk('/kaggle/input'):\n",
    "    for filename in filenames:\n",
    "        print(os.path.join(dirname, filename))"
   ]
  },
  {
   "cell_type": "code",
   "execution_count": 2,
   "id": "f41e804b",
   "metadata": {
    "execution": {
     "iopub.execute_input": "2022-12-02T15:14:19.352974Z",
     "iopub.status.busy": "2022-12-02T15:14:19.352687Z",
     "iopub.status.idle": "2022-12-02T15:14:24.320320Z",
     "shell.execute_reply": "2022-12-02T15:14:24.319549Z"
    },
    "papermill": {
     "duration": 4.974136,
     "end_time": "2022-12-02T15:14:24.323171",
     "exception": false,
     "start_time": "2022-12-02T15:14:19.349035",
     "status": "completed"
    },
    "tags": []
   },
   "outputs": [
    {
     "name": "stderr",
     "output_type": "stream",
     "text": [
      "/opt/conda/lib/python3.7/site-packages/numpy/lib/nanfunctions.py:1117: RuntimeWarning: Mean of empty slice\n",
      "  return np.nanmean(a, axis, out=out, keepdims=keepdims)\n",
      "/opt/conda/lib/python3.7/site-packages/numpy/lib/nanfunctions.py:1117: RuntimeWarning: Mean of empty slice\n",
      "  return np.nanmean(a, axis, out=out, keepdims=keepdims)\n",
      "/opt/conda/lib/python3.7/site-packages/numpy/lib/nanfunctions.py:1117: RuntimeWarning: Mean of empty slice\n",
      "  return np.nanmean(a, axis, out=out, keepdims=keepdims)\n",
      "/opt/conda/lib/python3.7/site-packages/scipy/stats/stats.py:4023: PearsonRConstantInputWarning: An input array is constant; the correlation coefficient is not defined.\n",
      "  warnings.warn(PearsonRConstantInputWarning())\n",
      "/opt/conda/lib/python3.7/site-packages/scipy/stats/stats.py:4053: PearsonRNearConstantInputWarning: An input array is nearly constant; the computed correlation coefficient may be inaccurate.\n",
      "  warnings.warn(PearsonRNearConstantInputWarning())\n"
     ]
    },
    {
     "name": "stdout",
     "output_type": "stream",
     "text": [
      "             YearBuilt  GarageYrBlt\n",
      "YearBuilt      1.00000      0.82948\n",
      "GarageYrBlt    0.82948      1.00000\n"
     ]
    }
   ],
   "source": [
    "\n",
    "\n",
    "# You can write up to 20GB to the current directory (/kaggle/working/) that gets preserved as output when you create a version using \"Save & Run All\" \n",
    "# You can also write temporary files to /kaggle/temp/, but they won't be saved outside of the current session\n",
    "\n",
    "X = pd.read_csv('../input/house-prices-advanced-regression-techniques/train.csv')\n",
    "X_test_full = pd.read_csv('../input/house-prices-advanced-regression-techniques/test.csv')\n",
    "\n",
    "#####################\n",
    "X.drop(['PoolQC'], axis=1, inplace=True)\n",
    "X.drop(['PoolArea'], axis=1, inplace=True)\n",
    "X.drop(['Utilities', 'Street'], axis=1, inplace=True)\n",
    "\n",
    "\n",
    "y = X.SalePrice\n",
    "X.drop(['SalePrice'], axis=1, inplace=True)\n",
    "\n",
    "XConc = pd.concat([X, X_test_full]).reset_index(drop=True)\n",
    "\n",
    "# XGBoost\n",
    "my_model_2 = XGBRegressor(eta='0.001', n_estimators=1000, learning_rate=0.03, random_state=0, min_child_weight=7, max_depth=5, n_jobs=-1, subsample=0.55,\n",
    "                          colsample_bytree=0.2, reg_lambda=3.5, alpha=110000)\n",
    "\n",
    "objects = []\n",
    "for i in XConc.columns:\n",
    "    if XConc[i].dtype == object:\n",
    "        objects.append(i)\n",
    "X.update(XConc[objects].fillna('None'))\n",
    "\n",
    "XConc['LotFrontage'] = X.groupby('Neighborhood')['LotFrontage'].transform(lambda x: x.fillna(x.median()))\n",
    "XConc['GarageYrBlt'] = X.groupby('YearBuilt')['GarageYrBlt'].transform(lambda x: x.fillna(x.median())) # -216 sur la MAE\n",
    "\n",
    "numeric_dtypes = ['int16', 'int32', 'int64', 'float16', 'float32', 'float64']\n",
    "numerics = []\n",
    "for i in XConc.columns:\n",
    "    if XConc[i].dtype in numeric_dtypes:\n",
    "        numerics.append(i)\n",
    "X.update(XConc[numerics].fillna(0))\n",
    "numeric_dtypes = ['int16', 'int32', 'int64', 'float16', 'float32', 'float64']\n",
    "numerics2 = []\n",
    "for i in XConc.columns:\n",
    "    if XConc[i].dtype in numeric_dtypes:\n",
    "        numerics2.append(i)\n",
    "skew_features = XConc[numerics2].apply(lambda x: skew(x)).sort_values(ascending=False)\n",
    "\n",
    "high_skew = skew_features[skew_features > 0.5]\n",
    "skew_index = high_skew.index\n",
    "\n",
    "for i in skew_index:\n",
    "    XConc[i] = boxcox1p(XConc[i], boxcox_normmax(XConc[i] + 1))\n",
    "\n",
    "XConc['YrBltAndRemod']=XConc['YearBuilt']+XConc['YearRemodAdd']\n",
    "XConc['TotalSF']=XConc['TotalBsmtSF'] + XConc['1stFlrSF'] + XConc['2ndFlrSF']\n",
    "\n",
    "XConc['Total_sqr_footage'] = (XConc['BsmtFinSF1'] + XConc['BsmtFinSF2'] +\n",
    "                                 XConc['1stFlrSF'] + XConc['2ndFlrSF'])\n",
    "\n",
    "XConc['Total_Bathrooms'] = (XConc['FullBath'] + (0.5 * XConc['HalfBath']) +\n",
    "                               XConc['BsmtFullBath'] + (0.5 * XConc['BsmtHalfBath']))\n",
    "\n",
    "XConc['Total_porch_sf'] = (XConc['OpenPorchSF'] + XConc['3SsnPorch'] +\n",
    "                              XConc['EnclosedPorch'] + XConc['ScreenPorch'] +\n",
    "                              XConc['WoodDeckSF'])\n",
    "\n",
    "\n",
    "final_features = pd.get_dummies(XConc).reset_index(drop=True)\n",
    "X = final_features.iloc[:len(y), :]\n",
    "X_sub = final_features.iloc[len(X):, :]\n",
    "\n",
    "my_model_2.fit(X, y)\n",
    "\n",
    "print(X[['YearBuilt', 'GarageYrBlt']].corr())"
   ]
  },
  {
   "cell_type": "code",
   "execution_count": 3,
   "id": "ed40c59c",
   "metadata": {
    "execution": {
     "iopub.execute_input": "2022-12-02T15:14:24.330712Z",
     "iopub.status.busy": "2022-12-02T15:14:24.329754Z",
     "iopub.status.idle": "2022-12-02T15:14:45.071412Z",
     "shell.execute_reply": "2022-12-02T15:14:45.070634Z"
    },
    "papermill": {
     "duration": 20.747197,
     "end_time": "2022-12-02T15:14:45.073223",
     "exception": false,
     "start_time": "2022-12-02T15:14:24.326026",
     "status": "completed"
    },
    "tags": []
   },
   "outputs": [
    {
     "name": "stdout",
     "output_type": "stream",
     "text": [
      "Average MAE score (across experiments):\n",
      "15198.788067208903\n"
     ]
    }
   ],
   "source": [
    "scores = -1 * cross_val_score(my_model_2, X, y,\n",
    "                              cv=5,\n",
    "                              scoring='neg_mean_absolute_error')\n",
    "print(\"Average MAE score (across experiments):\")\n",
    "print(scores.mean())"
   ]
  },
  {
   "cell_type": "code",
   "execution_count": 4,
   "id": "0c376163",
   "metadata": {
    "execution": {
     "iopub.execute_input": "2022-12-02T15:14:45.080662Z",
     "iopub.status.busy": "2022-12-02T15:14:45.079716Z",
     "iopub.status.idle": "2022-12-02T15:14:45.083407Z",
     "shell.execute_reply": "2022-12-02T15:14:45.082855Z"
    },
    "papermill": {
     "duration": 0.009376,
     "end_time": "2022-12-02T15:14:45.085541",
     "exception": false,
     "start_time": "2022-12-02T15:14:45.076165",
     "status": "completed"
    },
    "tags": []
   },
   "outputs": [],
   "source": [
    "#obj_cols = [cname for cname in X.columns if\n",
    "#                    X[cname].dtype == \"object\"]\n",
    "#OH_encoder = OneHotEncoder(handle_unknown='ignore', sparse=False)\n",
    "#OH_cols_train = pd.DataFrame(OH_encoder.fit_transform(X_train_full[obj_cols]))\n",
    "#OH_cols_train.index = X_train_full.index\n",
    "#num_X_train = X_train_full.drop(obj_cols, axis=1)\n",
    "#OH_X_train = pd.concat([num_X_train, OH_cols_train], axis=1)\n",
    "#\n",
    "#xgb2 = XGBRegressor(n_estimators=800, learning_rate=0.03, random_state=0, min_child_weight=7, max_depth=5, n_jobs=-1, subsample=0.5)\n",
    "#xgb2.fit(OH_X_train, y_train)\n",
    "\n",
    "\n",
    "\n"
   ]
  },
  {
   "cell_type": "code",
   "execution_count": 5,
   "id": "a48a7630",
   "metadata": {
    "execution": {
     "iopub.execute_input": "2022-12-02T15:14:45.092443Z",
     "iopub.status.busy": "2022-12-02T15:14:45.092143Z",
     "iopub.status.idle": "2022-12-02T15:14:45.111477Z",
     "shell.execute_reply": "2022-12-02T15:14:45.110619Z"
    },
    "papermill": {
     "duration": 0.025229,
     "end_time": "2022-12-02T15:14:45.113626",
     "exception": false,
     "start_time": "2022-12-02T15:14:45.088397",
     "status": "completed"
    },
    "tags": []
   },
   "outputs": [],
   "source": [
    "params = {'colsample_bytree': [0.2],\n",
    "          'lambda': [3.5],\n",
    "          'learning_rate': [0.005, 0.007, 0.008, 0.01,0.02,0.03,0.04, 0.05],\n",
    "          'n_estimators' : [100, 200, 300, 400, 500, 600, 800, 900, 1000]\n",
    "           }\n",
    "\n",
    "xgb1 = XGBRegressor(n_estimators=800, learning_rate=0.03, random_state=0, min_child_weight=7, max_depth=5, n_jobs=-1, subsample=0.5)\n",
    "\n",
    "obj_cols = [cname for cname in X.columns if\n",
    "                    X[cname].dtype == \"object\"]\n",
    "OH_encoder = OneHotEncoder(handle_unknown='ignore', sparse=False)\n",
    "#OH_cols_train = pd.DataFrame(OH_encoder.fit_transform(X_train_full[obj_cols]))\n",
    "#OH_cols_train.index = X_train_full.index\n",
    "#num_X_train = X_train_full.drop(obj_cols, axis=1)\n",
    "#OH_X_train = pd.concat([num_X_train, OH_cols_train], axis=1)\n",
    "\n",
    "\n",
    "gcv = GridSearchCV(xgb1, param_grid=params, cv=2, n_jobs=-1)\n",
    "#gcv.fit(OH_X_train, y_train)\n",
    "#print(\" Results from Grid Search \" )\n",
    "#print(\"\\n The best estimator across ALL searched params:\\n\",gcv.best_estimator_)\n",
    "#print(\"\\n The best score across ALL searched params:\\n\",gcv.best_score_)\n",
    "#print(\"\\n The best parameters across ALL searched params:\\n\",gcv.best_params_)\n"
   ]
  },
  {
   "cell_type": "code",
   "execution_count": 6,
   "id": "c155d1e7",
   "metadata": {
    "execution": {
     "iopub.execute_input": "2022-12-02T15:14:45.120682Z",
     "iopub.status.busy": "2022-12-02T15:14:45.120308Z",
     "iopub.status.idle": "2022-12-02T15:14:45.154940Z",
     "shell.execute_reply": "2022-12-02T15:14:45.154072Z"
    },
    "papermill": {
     "duration": 0.040546,
     "end_time": "2022-12-02T15:14:45.157154",
     "exception": false,
     "start_time": "2022-12-02T15:14:45.116608",
     "status": "completed"
    },
    "tags": []
   },
   "outputs": [],
   "source": [
    "\n",
    "\n",
    "# Submit\n",
    "predsSub = my_model_2.predict(X_sub)\n",
    "output = pd.DataFrame({'Id': X_sub.Id,\n",
    "                       'SalePrice': predsSub})\n",
    "output.to_csv('submission.csv', index=False)\n",
    "\n"
   ]
  },
  {
   "cell_type": "code",
   "execution_count": null,
   "id": "c70b8402",
   "metadata": {
    "papermill": {
     "duration": 0.002454,
     "end_time": "2022-12-02T15:14:45.162478",
     "exception": false,
     "start_time": "2022-12-02T15:14:45.160024",
     "status": "completed"
    },
    "tags": []
   },
   "outputs": [],
   "source": []
  }
 ],
 "metadata": {
  "kernelspec": {
   "display_name": "Python 3",
   "language": "python",
   "name": "python3"
  },
  "language_info": {
   "codemirror_mode": {
    "name": "ipython",
    "version": 3
   },
   "file_extension": ".py",
   "mimetype": "text/x-python",
   "name": "python",
   "nbconvert_exporter": "python",
   "pygments_lexer": "ipython3",
   "version": "3.7.12"
  },
  "papermill": {
   "default_parameters": {},
   "duration": 35.385628,
   "end_time": "2022-12-02T15:14:45.884767",
   "environment_variables": {},
   "exception": null,
   "input_path": "__notebook__.ipynb",
   "output_path": "__notebook__.ipynb",
   "parameters": {},
   "start_time": "2022-12-02T15:14:10.499139",
   "version": "2.3.4"
  }
 },
 "nbformat": 4,
 "nbformat_minor": 5
}
